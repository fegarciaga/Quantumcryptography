{
 "cells": [
  {
   "cell_type": "code",
   "execution_count": 15,
   "id": "cedee18f-d681-420a-8316-399f8052d194",
   "metadata": {},
   "outputs": [],
   "source": [
    "from qiskit import QuantumCircuit, Aer, transpile, assemble\n",
    "from numpy.random import randint\n",
    "import numpy as np"
   ]
  },
  {
   "cell_type": "code",
   "execution_count": 16,
   "id": "84d39552-1820-4512-a781-03ae6fd4d9a5",
   "metadata": {},
   "outputs": [],
   "source": [
    "def Q_encode(bits, bases):\n",
    "    message = []\n",
    "    for i in range(n):\n",
    "        qc = QuantumCircuit(1,1)\n",
    "        if bases[i] == 0: \n",
    "            if bits[i] == 0:\n",
    "                pass \n",
    "            else:\n",
    "                qc.x(0)\n",
    "        else: \n",
    "            if bits[i] == 0:\n",
    "                qc.h(0)\n",
    "            else:\n",
    "                qc.x(0)\n",
    "                qc.h(0)\n",
    "        qc.barrier()\n",
    "        message.append(qc)\n",
    "    return message"
   ]
  },
  {
   "cell_type": "code",
   "execution_count": 17,
   "id": "23e230b2-e502-4e69-913c-a5de138fc9e6",
   "metadata": {},
   "outputs": [],
   "source": [
    "def Q_measure(message, bases):\n",
    "    backend = Aer.get_backend('aer_simulator')\n",
    "    measurements = []\n",
    "    for q in range(n):\n",
    "        if bases[q] == 0: \n",
    "            message[q].measure(0,0)\n",
    "        if bases[q] == 1: \n",
    "            message[q].h(0)\n",
    "            message[q].measure(0,0)\n",
    "        aer_sim = Aer.get_backend('aer_simulator')\n",
    "        qobj = assemble(message[q], shots=1, memory=True)\n",
    "        result = aer_sim.run(qobj).result()\n",
    "        measured_bit = int(result.get_memory()[0])\n",
    "        measurements.append(measured_bit)\n",
    "    return measurements"
   ]
  },
  {
   "cell_type": "code",
   "execution_count": 18,
   "id": "6f8dfddd-664e-44f2-b741-f9e397414dbd",
   "metadata": {},
   "outputs": [],
   "source": [
    "def remove_data(a_bases, b_bases, bits):\n",
    "    good_bits = []\n",
    "    for q in range(n):\n",
    "        if a_bases[q] == b_bases[q]:\n",
    "            good_bits.append(bits[q])\n",
    "    return good_bits"
   ]
  },
  {
   "cell_type": "code",
   "execution_count": 19,
   "id": "fe54e8fd-4311-4ef7-a247-b341add2454b",
   "metadata": {},
   "outputs": [],
   "source": [
    "def sample_data(bits, selection):\n",
    "    sample = []\n",
    "    for i in selection:\n",
    "        i = np.mod(i, len(bits))\n",
    "        sample.append(bits.pop(i))\n",
    "    return sample"
   ]
  },
  {
   "cell_type": "code",
   "execution_count": 37,
   "id": "09fdc099-98fd-481a-ad2d-b4b1cf97a042",
   "metadata": {},
   "outputs": [],
   "source": [
    "def authenticate(bits_a, bits_b, tol):\n",
    "    count=0\n",
    "    for i in range(len(bits_a)):\n",
    "        if bits_a[i]!=bits_b[i]:\n",
    "            count+=1\n",
    "    print(count/len(bits_a))\n",
    "    if count/len(bits_a)<tol:\n",
    "        print(\"No atack detected\")\n",
    "    else:\n",
    "        print(\"Atack detected\")\n",
    "    return"
   ]
  },
  {
   "cell_type": "code",
   "execution_count": 38,
   "id": "5034f5bf-2f98-4427-ae45-b1613cf5c6cb",
   "metadata": {},
   "outputs": [
    {
     "name": "stdout",
     "output_type": "stream",
     "text": [
      "0.26666666666666666\n",
      "Atack detected\n"
     ]
    }
   ],
   "source": [
    "n = 100\n",
    "np.random.seed(seed=3)\n",
    "## Step 1\n",
    "alice_bits = randint(2, size=n)\n",
    "## Step 2\n",
    "alice_bases = randint(2, size=n)\n",
    "message = encode_message(alice_bits, alice_bases)\n",
    "## Interception!!\n",
    "eve_bases = randint(2, size=n)\n",
    "intercepted_message = measure_message(message, eve_bases)\n",
    "## Step 3\n",
    "bob_bases = randint(2, size=n)\n",
    "bob_results = measure_message(message, bob_bases)\n",
    "## Step 4\n",
    "bob_key = remove_data(alice_bases, bob_bases, bob_results)\n",
    "alice_key = remove_data(alice_bases, bob_bases, alice_bits)\n",
    "## Step 5\n",
    "sample_size = 15\n",
    "bit_selection = randint(n, size=sample_size)\n",
    "bob_sample = sample_data(bob_key, bit_selection)\n",
    "alice_sample = sample_data(alice_key, bit_selection)\n",
    "authenticate(alice_sample,bob_sample,0.12)"
   ]
  },
  {
   "cell_type": "code",
   "execution_count": 42,
   "id": "55eea592-a4f5-4006-89bf-7deaa19f54b1",
   "metadata": {},
   "outputs": [
    {
     "name": "stdout",
     "output_type": "stream",
     "text": [
      "0.25\n",
      "No atack detected\n"
     ]
    }
   ],
   "source": [
    "n = 10\n",
    "np.random.seed(seed=3)\n",
    "## Step 1\n",
    "alice_bits = randint(2, size=n)\n",
    "## Step 2\n",
    "alice_bases = randint(2, size=n)\n",
    "message = encode_message(alice_bits, alice_bases)\n",
    "## Interception!!\n",
    "eve_bases = randint(2, size=n)\n",
    "intercepted_message = measure_message(message, eve_bases)\n",
    "## Step 3\n",
    "bob_bases = randint(2, size=n)\n",
    "bob_results = measure_message(message, bob_bases)\n",
    "## Step 4\n",
    "bob_key = remove_data(alice_bases, bob_bases, bob_results)\n",
    "alice_key = remove_data(alice_bases, bob_bases, alice_bits)\n",
    "## Step 5\n",
    "sample_size = 4\n",
    "bit_selection = randint(n, size=sample_size)\n",
    "bob_sample = sample_data(bob_key, bit_selection)\n",
    "alice_sample = sample_data(alice_key, bit_selection)\n",
    "authenticate(alice_sample,bob_sample,0.3)"
   ]
  },
  {
   "cell_type": "code",
   "execution_count": null,
   "id": "c47a4d3d-6ffa-491e-81f6-4ad60d4909b1",
   "metadata": {},
   "outputs": [],
   "source": []
  }
 ],
 "metadata": {
  "kernelspec": {
   "display_name": "Python 3 (ipykernel)",
   "language": "python",
   "name": "python3"
  },
  "language_info": {
   "codemirror_mode": {
    "name": "ipython",
    "version": 3
   },
   "file_extension": ".py",
   "mimetype": "text/x-python",
   "name": "python",
   "nbconvert_exporter": "python",
   "pygments_lexer": "ipython3",
   "version": "3.8.13"
  },
  "widgets": {
   "application/vnd.jupyter.widget-state+json": {
    "state": {
     "07740630775d40999f3c53a2c7756352": {
      "model_module": "@jupyter-widgets/controls",
      "model_module_version": "1.5.0",
      "model_name": "DescriptionStyleModel",
      "state": {
       "description_width": ""
      }
     },
     "0b137633779846689825fc365c5b2bb6": {
      "model_module": "@jupyter-widgets/base",
      "model_module_version": "1.2.0",
      "model_name": "LayoutModel",
      "state": {
       "width": "70px"
      }
     },
     "0c00c74d416947779585e4280aa9b84d": {
      "model_module": "@jupyter-widgets/controls",
      "model_module_version": "1.5.0",
      "model_name": "HBoxModel",
      "state": {
       "children": [
        "IPY_MODEL_25a53d6d1ee24a59b74fb99f81fe6b36",
        "IPY_MODEL_e839a8134d124eac833da238f09c48d7",
        "IPY_MODEL_f31274a8a32742898fd2adb0f459a29f",
        "IPY_MODEL_b9627a36c87a4295a1fbc622211f3393",
        "IPY_MODEL_f47e90fa607048fd93ca07a170947ea3"
       ],
       "layout": "IPY_MODEL_e4cc0fba9dc24bd3bbc7caa1117cb15a"
      }
     },
     "25a53d6d1ee24a59b74fb99f81fe6b36": {
      "model_module": "@jupyter-widgets/controls",
      "model_module_version": "1.5.0",
      "model_name": "HTMLModel",
      "state": {
       "layout": "IPY_MODEL_bd3b563445a340ddb3542c7aa3edc357",
       "style": "IPY_MODEL_455c6f01ff774182a8725737dc05aa77",
       "value": "<h5>Job ID</h5>"
      }
     },
     "28fb9711634745c68817f5592d59c657": {
      "model_module": "@jupyter-widgets/controls",
      "model_module_version": "1.5.0",
      "model_name": "ButtonModel",
      "state": {
       "button_style": "primary",
       "description": "Clear",
       "layout": "IPY_MODEL_a4d784f641f3477ea1b6452e1a5ef027",
       "style": "IPY_MODEL_eb4c8ad5e5714c7580a859eae94ae0ac"
      }
     },
     "376d5012b218483695a8fc7cfc7b7bcc": {
      "model_module": "@jupyter-widgets/base",
      "model_module_version": "1.2.0",
      "model_name": "LayoutModel",
      "state": {
       "width": "95px"
      }
     },
     "455c6f01ff774182a8725737dc05aa77": {
      "model_module": "@jupyter-widgets/controls",
      "model_module_version": "1.5.0",
      "model_name": "DescriptionStyleModel",
      "state": {
       "description_width": ""
      }
     },
     "5145c05db773448c9ad3fa954f4ec8d8": {
      "model_module": "@jupyter-widgets/controls",
      "model_module_version": "1.5.0",
      "model_name": "DescriptionStyleModel",
      "state": {
       "description_width": ""
      }
     },
     "82b0e0198e574818b530ded351a02d15": {
      "model_module": "@jupyter-widgets/controls",
      "model_module_version": "1.5.0",
      "model_name": "GridBoxModel",
      "state": {
       "children": [
        "IPY_MODEL_28fb9711634745c68817f5592d59c657"
       ],
       "layout": "IPY_MODEL_e3409175e87047598509ec77ea1f960b"
      }
     },
     "952d6f12dc2f436782ffc400c4935911": {
      "model_module": "@jupyter-widgets/controls",
      "model_module_version": "1.5.0",
      "model_name": "DescriptionStyleModel",
      "state": {
       "description_width": ""
      }
     },
     "9eef99cb21614838a42d5adba3a52498": {
      "model_module": "@jupyter-widgets/controls",
      "model_module_version": "1.5.0",
      "model_name": "DescriptionStyleModel",
      "state": {
       "description_width": ""
      }
     },
     "a4d784f641f3477ea1b6452e1a5ef027": {
      "model_module": "@jupyter-widgets/base",
      "model_module_version": "1.2.0",
      "model_name": "LayoutModel",
      "state": {
       "grid_area": "right",
       "padding": "0px 0px 0px 0px",
       "width": "70px"
      }
     },
     "aca2c8e2c766468cbdcc5983a43841d7": {
      "model_module": "@jupyter-widgets/controls",
      "model_module_version": "1.5.0",
      "model_name": "HTMLModel",
      "state": {
       "layout": "IPY_MODEL_e921300492424ae58e5d40a13e89dba7",
       "style": "IPY_MODEL_5145c05db773448c9ad3fa954f4ec8d8",
       "value": "<p style='font-family: IBM Plex Sans, Arial, Helvetica, sans-serif; font-size: 20px; font-weight: medium;'>Circuit Properties</p>"
      }
     },
     "b9627a36c87a4295a1fbc622211f3393": {
      "model_module": "@jupyter-widgets/controls",
      "model_module_version": "1.5.0",
      "model_name": "HTMLModel",
      "state": {
       "layout": "IPY_MODEL_0b137633779846689825fc365c5b2bb6",
       "style": "IPY_MODEL_07740630775d40999f3c53a2c7756352",
       "value": "<h5>Queue</h5>"
      }
     },
     "bd3b563445a340ddb3542c7aa3edc357": {
      "model_module": "@jupyter-widgets/base",
      "model_module_version": "1.2.0",
      "model_name": "LayoutModel",
      "state": {
       "width": "190px"
      }
     },
     "c3396b080be540c1810b13bf24cbf79f": {
      "model_module": "@jupyter-widgets/base",
      "model_module_version": "1.2.0",
      "model_name": "LayoutModel",
      "state": {
       "width": "145px"
      }
     },
     "d7c647dea85f466a9b2fb768416b700e": {
      "model_module": "@jupyter-widgets/controls",
      "model_module_version": "1.5.0",
      "model_name": "DescriptionStyleModel",
      "state": {
       "description_width": ""
      }
     },
     "dc7f668da3674ee589dbb1ef8f55801d": {
      "model_module": "@jupyter-widgets/base",
      "model_module_version": "1.2.0",
      "model_name": "LayoutModel",
      "state": {}
     },
     "e3409175e87047598509ec77ea1f960b": {
      "model_module": "@jupyter-widgets/base",
      "model_module_version": "1.2.0",
      "model_name": "LayoutModel",
      "state": {
       "grid_template_areas": "\n                                       \". . . . right \"\n                                        ",
       "grid_template_columns": "20% 20% 20% 20% 20%",
       "width": "100%"
      }
     },
     "e4cc0fba9dc24bd3bbc7caa1117cb15a": {
      "model_module": "@jupyter-widgets/base",
      "model_module_version": "1.2.0",
      "model_name": "LayoutModel",
      "state": {
       "margin": "0px 0px 0px 37px",
       "width": "600px"
      }
     },
     "e839a8134d124eac833da238f09c48d7": {
      "model_module": "@jupyter-widgets/controls",
      "model_module_version": "1.5.0",
      "model_name": "HTMLModel",
      "state": {
       "layout": "IPY_MODEL_c3396b080be540c1810b13bf24cbf79f",
       "style": "IPY_MODEL_d7c647dea85f466a9b2fb768416b700e",
       "value": "<h5>Backend</h5>"
      }
     },
     "e921300492424ae58e5d40a13e89dba7": {
      "model_module": "@jupyter-widgets/base",
      "model_module_version": "1.2.0",
      "model_name": "LayoutModel",
      "state": {
       "margin": "0px 0px 10px 0px"
      }
     },
     "eb4c8ad5e5714c7580a859eae94ae0ac": {
      "model_module": "@jupyter-widgets/controls",
      "model_module_version": "1.5.0",
      "model_name": "ButtonStyleModel",
      "state": {}
     },
     "f31274a8a32742898fd2adb0f459a29f": {
      "model_module": "@jupyter-widgets/controls",
      "model_module_version": "1.5.0",
      "model_name": "HTMLModel",
      "state": {
       "layout": "IPY_MODEL_376d5012b218483695a8fc7cfc7b7bcc",
       "style": "IPY_MODEL_9eef99cb21614838a42d5adba3a52498",
       "value": "<h5>Status</h5>"
      }
     },
     "f47e90fa607048fd93ca07a170947ea3": {
      "model_module": "@jupyter-widgets/controls",
      "model_module_version": "1.5.0",
      "model_name": "HTMLModel",
      "state": {
       "layout": "IPY_MODEL_dc7f668da3674ee589dbb1ef8f55801d",
       "style": "IPY_MODEL_952d6f12dc2f436782ffc400c4935911",
       "value": "<h5>Message</h5>"
      }
     }
    },
    "version_major": 2,
    "version_minor": 0
   }
  }
 },
 "nbformat": 4,
 "nbformat_minor": 5
}
